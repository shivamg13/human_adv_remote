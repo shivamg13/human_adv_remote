{
 "cells": [
  {
   "cell_type": "code",
   "execution_count": 16,
   "metadata": {},
   "outputs": [
    {
     "name": "stdout",
     "output_type": "stream",
     "text": [
      "Starting experiment...\n",
      "Epoch [1/6], Step [100/600], Loss: 0.3591, Accuracy: 86.00%\n",
      "Epoch [1/6], Step [200/600], Loss: 0.1562, Accuracy: 96.00%\n",
      "Epoch [1/6], Step [300/600], Loss: 0.2355, Accuracy: 91.00%\n",
      "Epoch [1/6], Step [400/600], Loss: 0.1333, Accuracy: 96.00%\n",
      "Epoch [1/6], Step [500/600], Loss: 0.0165, Accuracy: 100.00%\n",
      "Epoch [1/6], Step [600/600], Loss: 0.0611, Accuracy: 98.00%\n",
      "Epoch [2/6], Step [100/600], Loss: 0.0447, Accuracy: 98.00%\n",
      "Epoch [2/6], Step [200/600], Loss: 0.0498, Accuracy: 98.00%\n",
      "Epoch [2/6], Step [300/600], Loss: 0.0521, Accuracy: 99.00%\n",
      "Epoch [2/6], Step [400/600], Loss: 0.1544, Accuracy: 95.00%\n",
      "Epoch [2/6], Step [500/600], Loss: 0.1421, Accuracy: 94.00%\n",
      "Epoch [2/6], Step [600/600], Loss: 0.0607, Accuracy: 98.00%\n",
      "Epoch [3/6], Step [100/600], Loss: 0.0948, Accuracy: 96.00%\n",
      "Epoch [3/6], Step [200/600], Loss: 0.0464, Accuracy: 98.00%\n",
      "Epoch [3/6], Step [300/600], Loss: 0.0373, Accuracy: 98.00%\n",
      "Epoch [3/6], Step [400/600], Loss: 0.0548, Accuracy: 97.00%\n",
      "Epoch [3/6], Step [500/600], Loss: 0.0447, Accuracy: 99.00%\n",
      "Epoch [3/6], Step [600/600], Loss: 0.0758, Accuracy: 97.00%\n",
      "Epoch [4/6], Step [100/600], Loss: 0.0636, Accuracy: 98.00%\n",
      "Epoch [4/6], Step [200/600], Loss: 0.0610, Accuracy: 98.00%\n",
      "Epoch [4/6], Step [300/600], Loss: 0.1136, Accuracy: 97.00%\n",
      "Epoch [4/6], Step [400/600], Loss: 0.0500, Accuracy: 99.00%\n",
      "Epoch [4/6], Step [500/600], Loss: 0.0396, Accuracy: 97.00%\n",
      "Epoch [4/6], Step [600/600], Loss: 0.0182, Accuracy: 99.00%\n",
      "Epoch [5/6], Step [100/600], Loss: 0.0362, Accuracy: 99.00%\n",
      "Epoch [5/6], Step [200/600], Loss: 0.1186, Accuracy: 98.00%\n",
      "Epoch [5/6], Step [300/600], Loss: 0.0852, Accuracy: 96.00%\n",
      "Epoch [5/6], Step [400/600], Loss: 0.1338, Accuracy: 95.00%\n",
      "Epoch [5/6], Step [500/600], Loss: 0.0782, Accuracy: 98.00%\n",
      "Epoch [5/6], Step [600/600], Loss: 0.0896, Accuracy: 96.00%\n",
      "Epoch [6/6], Step [100/600], Loss: 0.1022, Accuracy: 97.00%\n",
      "Epoch [6/6], Step [200/600], Loss: 0.0237, Accuracy: 99.00%\n",
      "Epoch [6/6], Step [300/600], Loss: 0.0528, Accuracy: 98.00%\n",
      "Epoch [6/6], Step [400/600], Loss: 0.0210, Accuracy: 99.00%\n",
      "Epoch [6/6], Step [500/600], Loss: 0.0387, Accuracy: 97.00%\n",
      "Epoch [6/6], Step [600/600], Loss: 0.0077, Accuracy: 100.00%\n",
      "Test Accuracy of the model on the 10000 test images: 98.88 %\n"
     ]
    }
   ],
   "source": [
    "import torch\n",
    "import torch.nn as nn\n",
    "from torch.utils.data import DataLoader\n",
    "import torchvision.transforms as transforms\n",
    "import torchvision.datasets\n",
    "from bokeh.plotting import figure\n",
    "from bokeh.io import show\n",
    "from bokeh.models import LinearAxis, Range1d\n",
    "import numpy as np\n",
    "\n",
    "print(\"Starting experiment...\")\n",
    "\n",
    "device = torch.device(\"cuda:0\" if torch.cuda.is_available() else \"cpu\")\n",
    "\n",
    "\n",
    "# Hyperparameters\n",
    "num_epochs = 6\n",
    "num_classes = 10\n",
    "batch_size = 100\n",
    "learning_rate = 0.001\n",
    "\n",
    "DATA_PATH = 'datasets/'\n",
    "MODEL_STORE_PATH = 'trained_models/'\n",
    "\n",
    "# transforms to apply to the data\n",
    "#trans = transforms.Compose([transforms.ToTensor(), transforms.Normalize((0.1307,), (0.3081,))])\n",
    "trans = transforms.Compose([transforms.ToTensor()])\n",
    "\n",
    "# MNIST dataset\n",
    "train_dataset = torchvision.datasets.MNIST(root=DATA_PATH, train=True, transform=trans, download=True)\n",
    "test_dataset = torchvision.datasets.MNIST(root=DATA_PATH, train=False, transform=trans)\n",
    "\n",
    "# Data loader\n",
    "train_loader = DataLoader(dataset=train_dataset, batch_size=batch_size, shuffle=True)\n",
    "test_loader = DataLoader(dataset=test_dataset, batch_size=batch_size, shuffle=False)\n",
    "\n",
    "# Convolutional neural network (two convolutional layers)\n",
    "class ConvNet(nn.Module):\n",
    "    def __init__(self):\n",
    "        super(ConvNet, self).__init__()\n",
    "        self.layer1 = nn.Sequential(\n",
    "            nn.Conv2d(1, 32, kernel_size=5, stride=1, padding=2),\n",
    "            nn.ReLU(),\n",
    "            nn.MaxPool2d(kernel_size=2, stride=2))\n",
    "        self.layer2 = nn.Sequential(\n",
    "            nn.Conv2d(32, 64, kernel_size=5, stride=1, padding=2),\n",
    "            nn.ReLU(),\n",
    "            nn.MaxPool2d(kernel_size=2, stride=2))\n",
    "        self.drop_out = nn.Dropout()\n",
    "        self.fc1 = nn.Linear(7 * 7 * 64, 10000)\n",
    "        self.fc2 = nn.Linear(10000, 10)\n",
    "\n",
    "    def forward(self, x):\n",
    "        out = self.layer1(x)\n",
    "        out = self.layer2(out)\n",
    "        out = out.reshape(out.size(0), -1)\n",
    "        out = self.drop_out(out)\n",
    "        out = self.fc1(out)\n",
    "        out = self.fc2(out)\n",
    "        return out\n",
    "\n",
    "\n",
    "model = ConvNet()\n",
    "model = model.to(device)\n",
    "\n",
    "# Loss and optimizer\n",
    "criterion = nn.CrossEntropyLoss()\n",
    "optimizer = torch.optim.Adam(model.parameters(), lr=learning_rate)\n",
    "\n",
    "# Train the model\n",
    "total_step = len(train_loader)\n",
    "loss_list = []\n",
    "acc_list = []\n",
    "for epoch in range(num_epochs):\n",
    "    for i, (images, labels) in enumerate(train_loader):\n",
    "        # Run the forward pass\n",
    "        images, labels = images.to(device), labels.to(device)\n",
    "        outputs = model(images)\n",
    "        loss = criterion(outputs, labels)\n",
    "        loss_list.append(loss.item())\n",
    "\n",
    "        # Backprop and perform Adam optimisation\n",
    "        optimizer.zero_grad()\n",
    "        loss.backward()\n",
    "        optimizer.step()\n",
    "\n",
    "        # Track the accuracy\n",
    "        total = labels.size(0)\n",
    "        _, predicted = torch.max(outputs.data, 1)\n",
    "        correct = (predicted == labels).sum().item()\n",
    "        acc_list.append(correct / total)\n",
    "\n",
    "        if (i + 1) % 100 == 0:\n",
    "            print('Epoch [{}/{}], Step [{}/{}], Loss: {:.4f}, Accuracy: {:.2f}%'\n",
    "                  .format(epoch + 1, num_epochs, i + 1, total_step, loss.item(),\n",
    "                          (correct / total) * 100))\n",
    "\n",
    "# Test the model\n",
    "model.eval()\n",
    "with torch.no_grad():\n",
    "    correct = 0\n",
    "    total = 0\n",
    "    for images, labels in test_loader:\n",
    "        images, labels = images.to(device), labels.to(device)\n",
    "        outputs = model(images)\n",
    "        _, predicted = torch.max(outputs.data, 1)\n",
    "        total += labels.size(0)\n",
    "        correct += (predicted == labels).sum().item()\n",
    "\n",
    "    print('Test Accuracy of the model on the 10000 test images: {} %'.format((correct / total) * 100))\n",
    "\n",
    "# Save the model and plot\n",
    "torch.save(model.state_dict(), MODEL_STORE_PATH + 'conv_net_model.ckpt')\n",
    "\n",
    "p = figure(y_axis_label='Loss', width=850, y_range=(0, 1), title='PyTorch ConvNet results')\n",
    "p.extra_y_ranges = {'Accuracy': Range1d(start=0, end=100)}\n",
    "p.add_layout(LinearAxis(y_range_name='Accuracy', axis_label='Accuracy (%)'), 'right')\n",
    "p.line(np.arange(len(loss_list)), loss_list)\n",
    "p.line(np.arange(len(loss_list)), np.array(acc_list) * 100, y_range_name='Accuracy', color='red')\n",
    "show(p)"
   ]
  },
  {
   "cell_type": "code",
   "execution_count": 46,
   "metadata": {},
   "outputs": [
    {
     "data": {
      "text/plain": [
       "<matplotlib.image.AxesImage at 0x7f782375c0b8>"
      ]
     },
     "execution_count": 46,
     "metadata": {},
     "output_type": "execute_result"
    },
    {
     "data": {
      "image/png": "[encoded data removed]",
      "text/plain": [
       "<matplotlib.figure.Figure at 0x7f78237dd2b0>"
      ]
     },
     "metadata": {},
     "output_type": "display_data"
    }
   ],
   "source": [
    "from matplotlib import pyplot as plt\n",
    "%matplotlib inline\n",
    "\n",
    "images_np = images.cpu().numpy()\n",
    "plt.imshow(images_np[18,0])"
   ]
  }
 ],
 "metadata": {
  "kernelspec": {
   "display_name": "Python 3",
   "language": "python",
   "name": "python3"
  },
  "language_info": {
   "codemirror_mode": {
    "name": "ipython",
    "version": 3
   },
   "file_extension": ".py",
   "mimetype": "text/x-python",
   "name": "python",
   "nbconvert_exporter": "python",
   "pygments_lexer": "ipython3",
   "version": "3.6.4"
  },
  "varInspector": {
   "cols": {
    "lenName": 16,
    "lenType": 16,
    "lenVar": 40
   },
   "kernels_config": {
    "python": {
     "delete_cmd_postfix": "",
     "delete_cmd_prefix": "del ",
     "library": "var_list.py",
     "varRefreshCmd": "print(var_dic_list())"
    },
    "r": {
     "delete_cmd_postfix": ") ",
     "delete_cmd_prefix": "rm(",
     "library": "var_list.r",
     "varRefreshCmd": "cat(var_dic_list()) "
    }
   },
   "oldHeight": 524,
   "position": {
    "height": "399px",
    "left": "1257px",
    "right": "20px",
    "top": "80px",
    "width": "318px"
   },
   "types_to_exclude": [
    "module",
    "function",
    "builtin_function_or_method",
    "instance",
    "_Feature"
   ],
   "varInspector_section_display": "block",
   "window_display": true
  }
 },
 "nbformat": 4,
 "nbformat_minor": 2
}
